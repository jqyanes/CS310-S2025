{
  "metadata": {
    "kernelspec": {
      "name": "python",
      "display_name": "Python (Pyodide)",
      "language": "python"
    },
    "language_info": {
      "codemirror_mode": {
        "name": "python",
        "version": 3
      },
      "file_extension": ".py",
      "mimetype": "text/x-python",
      "name": "python",
      "nbconvert_exporter": "python",
      "pygments_lexer": "ipython3",
      "version": "3.8"
    }
  },
  "nbformat_minor": 5,
  "nbformat": 4,
  "cells": [
    {
      "id": "b67ceb44-f8fb-49e6-91d1-3053b5220a8e",
      "cell_type": "code",
      "source": "import numpy as np\nimport pandas as pd\nfrom pandas import Series\nfrom pandas import DataFrame\nimport csv\n\ndf_train = pd.read_csv('prediction_challenge_train.csv')\ncc = pd.read_csv('airport_country_code_mapping.csv')\ndf_test = pd.read_csv('prediction_challenge_test.csv')\nprint(len(df_train[df_train['Eligible_For_Discount'] == 'Yes']))",
      "metadata": {
        "trusted": true
      },
      "outputs": [
        {
          "name": "stdout",
          "output_type": "stream",
          "text": "26794\n"
        }
      ],
      "execution_count": 106
    },
    {
      "id": "ffcbec03-304f-4007-87d7-9f55f69e2f88",
      "cell_type": "code",
      "source": "#Converting 'airport_country_codes.csv' to a dict\ncc_values = cc['Country Name']\ncc_values.index = cc['Airport Country Code']\ncc_dict = cc_values.to_dict()",
      "metadata": {
        "trusted": true
      },
      "outputs": [],
      "execution_count": 107
    },
    {
      "id": "30e40db9-d016-427e-afa9-7f46a051b4f6",
      "cell_type": "code",
      "source": "#Making new columns for convenience\ndf_train['Airport Country'] = df_train['Airport Country Code'].map(cc_dict)\nstored_dates = df_train['Departure Date'].values #year is always 2022\ndf_train['D Month'] = [x.split('/')[0] for x in stored_dates]\ndf_train['D Day'] = [x.split('/')[1] for x in stored_dates]\ndf_train.head()",
      "metadata": {
        "trusted": true
      },
      "outputs": [
        {
          "execution_count": 108,
          "output_type": "execute_result",
          "data": {
            "text/plain": "      ID First Name Last Name  Gender  Age  Nationality Airport Country Code  \\\n0  22554      Tally   Unworth  Female   13    Indonesia                   PG   \n1  42928    Bobette   Turfitt  Female   38     Thailand                   CN   \n2  26198    Karalee     Gross  Female   75  Philippines                   US   \n3  56569    Laurene   Shilton  Female   32       Poland                   ID   \n4  65769      Nancy  McGuigan  Female   17      Albania                   MG   \n\n  Departure Date         Pilot Name  Ticket Price Eligible_For_Discount  \\\n0     12/10/2022     Gussie Ridding        1218.0                   Yes   \n1     09/06/2022     Ursola Faudrie         688.0                   Yes   \n2     03/11/2022      Kellia Bunney         824.0                   Yes   \n3      1/19/2022     Kial McCaighey         702.0                   Yes   \n4      3/24/2022  Pincas Lorenzetto        1120.0                   Yes   \n\n    Airport Country D Month D Day  \n0  Papua New Guinea      12    10  \n1             China      09    06  \n2     United States      03    11  \n3         Indonesia       1    19  \n4        Madagascar       3    24  ",
            "text/html": "<div>\n<style scoped>\n    .dataframe tbody tr th:only-of-type {\n        vertical-align: middle;\n    }\n\n    .dataframe tbody tr th {\n        vertical-align: top;\n    }\n\n    .dataframe thead th {\n        text-align: right;\n    }\n</style>\n<table border=\"1\" class=\"dataframe\">\n  <thead>\n    <tr style=\"text-align: right;\">\n      <th></th>\n      <th>ID</th>\n      <th>First Name</th>\n      <th>Last Name</th>\n      <th>Gender</th>\n      <th>Age</th>\n      <th>Nationality</th>\n      <th>Airport Country Code</th>\n      <th>Departure Date</th>\n      <th>Pilot Name</th>\n      <th>Ticket Price</th>\n      <th>Eligible_For_Discount</th>\n      <th>Airport Country</th>\n      <th>D Month</th>\n      <th>D Day</th>\n    </tr>\n  </thead>\n  <tbody>\n    <tr>\n      <th>0</th>\n      <td>22554</td>\n      <td>Tally</td>\n      <td>Unworth</td>\n      <td>Female</td>\n      <td>13</td>\n      <td>Indonesia</td>\n      <td>PG</td>\n      <td>12/10/2022</td>\n      <td>Gussie Ridding</td>\n      <td>1218.0</td>\n      <td>Yes</td>\n      <td>Papua New Guinea</td>\n      <td>12</td>\n      <td>10</td>\n    </tr>\n    <tr>\n      <th>1</th>\n      <td>42928</td>\n      <td>Bobette</td>\n      <td>Turfitt</td>\n      <td>Female</td>\n      <td>38</td>\n      <td>Thailand</td>\n      <td>CN</td>\n      <td>09/06/2022</td>\n      <td>Ursola Faudrie</td>\n      <td>688.0</td>\n      <td>Yes</td>\n      <td>China</td>\n      <td>09</td>\n      <td>06</td>\n    </tr>\n    <tr>\n      <th>2</th>\n      <td>26198</td>\n      <td>Karalee</td>\n      <td>Gross</td>\n      <td>Female</td>\n      <td>75</td>\n      <td>Philippines</td>\n      <td>US</td>\n      <td>03/11/2022</td>\n      <td>Kellia Bunney</td>\n      <td>824.0</td>\n      <td>Yes</td>\n      <td>United States</td>\n      <td>03</td>\n      <td>11</td>\n    </tr>\n    <tr>\n      <th>3</th>\n      <td>56569</td>\n      <td>Laurene</td>\n      <td>Shilton</td>\n      <td>Female</td>\n      <td>32</td>\n      <td>Poland</td>\n      <td>ID</td>\n      <td>1/19/2022</td>\n      <td>Kial McCaighey</td>\n      <td>702.0</td>\n      <td>Yes</td>\n      <td>Indonesia</td>\n      <td>1</td>\n      <td>19</td>\n    </tr>\n    <tr>\n      <th>4</th>\n      <td>65769</td>\n      <td>Nancy</td>\n      <td>McGuigan</td>\n      <td>Female</td>\n      <td>17</td>\n      <td>Albania</td>\n      <td>MG</td>\n      <td>3/24/2022</td>\n      <td>Pincas Lorenzetto</td>\n      <td>1120.0</td>\n      <td>Yes</td>\n      <td>Madagascar</td>\n      <td>3</td>\n      <td>24</td>\n    </tr>\n  </tbody>\n</table>\n</div>"
          },
          "metadata": {}
        }
      ],
      "execution_count": 108
    },
    {
      "id": "3ae769da-24b0-4606-8dd0-f1889bff95f3",
      "cell_type": "code",
      "source": "#Looking at Age\nprint(len(df_train[df_train['Age'] < 5]))\nprint(len(df_train[(df_train['Age'] < 5) & (df_train['Eligible_For_Discount'] == 'Yes')]))\nprint(len(df_train[df_train['Age'] > 85]))\nprint(len(df_train[(df_train['Age'] > 85) & (df_train['Eligible_For_Discount'] == 'Yes')]))\n#all extremely young (< 5) or extremely old (> 85) passengers are eligible for discount",
      "metadata": {
        "trusted": true
      },
      "outputs": [
        {
          "name": "stdout",
          "output_type": "stream",
          "text": "3260\n3260\n4056\n4056\n"
        }
      ],
      "execution_count": 109
    },
    {
      "id": "aa2180ce-4236-4164-8e6c-a28666508c0d",
      "cell_type": "code",
      "source": "#Looking at Departure Date (day & month)\nprint(df_train.groupby(['D Day', 'Eligible_For_Discount']).size()) \n#^length = 62, so each day has 2 subgroups (none are completely 'Yes' or 'No')\nprint(df_train.groupby(['D Month', 'Eligible_For_Discount']).size())\n#all flights with departure dates in Jan ('D Month' is 1 or 01) or Dec ('D Month' is 12) are eligible for discount",
      "metadata": {
        "trusted": true
      },
      "outputs": [
        {
          "name": "stdout",
          "output_type": "stream",
          "text": "D Day  Eligible_For_Discount\n01     No                       828\n       Yes                      855\n02     No                       757\n       Yes                      879\n03     No                       843\n                               ... \n29     Yes                      779\n30     No                       731\n       Yes                      813\n31     No                       393\n       Yes                      440\nLength: 62, dtype: int64\nD Month  Eligible_For_Discount\n01       Yes                      2409\n02       No                        958\n         Yes                       548\n03       No                        945\n         Yes                       564\n04       No                       1010\n         Yes                       595\n05       No                        985\n         Yes                       590\n06       No                       1009\n         Yes                       551\n07       No                       1005\n         Yes                       549\n08       No                        990\n         Yes                       591\n09       No                        981\n         Yes                       600\n1        Yes                      3898\n10       No                       2506\n         Yes                      1540\n11       No                       2449\n         Yes                      1392\n12       Yes                      5955\n2        No                       1305\n         Yes                       786\n3        No                       1578\n         Yes                       940\n4        No                       1421\n         Yes                       812\n5        No                       1475\n         Yes                       870\n6        No                       1456\n         Yes                       877\n7        No                       1576\n         Yes                       902\n8        No                       1550\n         Yes                       945\n9        No                       1469\n         Yes                       880\ndtype: int64\n"
        }
      ],
      "execution_count": 110
    },
    {
      "id": "365135eb-4104-4fef-9a9a-ff7695725c70",
      "cell_type": "code",
      "source": "#Looking at Airport Country (derived from Airport Country Code)\nprint(len(df_train[df_train['Airport Country'] == df_train['Nationality']]))\nprint(len(df_train[(df_train['Airport Country'] == df_train['Nationality']) & (df_train['Eligible_For_Discount'] == 'Yes')]))\n#all passengers whose nationality matches the airport country are eligible for discount",
      "metadata": {
        "trusted": true
      },
      "outputs": [
        {
          "name": "stdout",
          "output_type": "stream",
          "text": "1500\n1500\n"
        }
      ],
      "execution_count": 111
    },
    {
      "id": "fe4e8115-b237-45a7-bbc7-fa2459686208",
      "cell_type": "code",
      "source": "#Drop rows whose eligibility reasons are already accounted for\nyoung = df_train[df_train['Age'] < 5]\ndf_train = df_train.drop(df_train[df_train['Age'] < 5].index)\nold = df_train[df_train['Age'] > 85]\ndf_train = df_train.drop(df_train[df_train['Age'] > 85].index)\njan = df_train[(df_train['D Month'] == '1') | (df_train['D Month'] == '01')]\ndf_train = df_train.drop(df_train[(df_train['D Month'] == '1') | (df_train['D Month'] == '01')].index)\ndec = df_train[df_train['D Month'] == '12']\ndf_train = df_train.drop(df_train[df_train['D Month'] == '12'].index)\nacn_match = df_train[df_train['Airport Country'] == df_train['Nationality']]\ndf_train = df_train.drop(df_train[df_train['Airport Country'] == df_train['Nationality']].index)\nprint(len(df_train[df_train['Eligible_For_Discount'] == 'Yes'])) #7290 left",
      "metadata": {
        "trusted": true
      },
      "outputs": [
        {
          "name": "stdout",
          "output_type": "stream",
          "text": "7290\n"
        }
      ],
      "execution_count": 112
    },
    {
      "id": "b827ccdb-5ab9-443a-bfcc-cd4d8b3652f9",
      "cell_type": "code",
      "source": "#Looking at Gender & Ticket Price\ndf_train_f = df_train[df_train['Gender'] == 'Female']\ndf_train_m = df_train[df_train['Gender'] == 'Male']\nprint(len(df_train_m[df_train_m['Eligible_For_Discount'] == 'Yes'])) #= 0, only need to look at female passengers\ndf_train_f[df_train_f['Eligible_For_Discount'] == 'Yes'] #ticket prices are all even",
      "metadata": {
        "trusted": true
      },
      "outputs": [
        {
          "name": "stdout",
          "output_type": "stream",
          "text": "0\n"
        },
        {
          "execution_count": 113,
          "output_type": "execute_result",
          "data": {
            "text/plain": "          ID First Name   Last Name  Gender  Age     Nationality  \\\n1      42928    Bobette     Turfitt  Female   38        Thailand   \n2      26198    Karalee       Gross  Female   75     Philippines   \n4      65769      Nancy    McGuigan  Female   17         Albania   \n7      84796      Teena  Ciccottini  Female   65     Philippines   \n17     14666   Euphemia       Boase  Female   70  Czech Republic   \n...      ...        ...         ...     ...  ...             ...   \n51436  56146     Adelle      Raiker  Female   36       Indonesia   \n51441  90113       Rene       Maffi  Female   53     New Zealand   \n51443  87270       Tina      Paiton  Female   17       Indonesia   \n51446   9723      Binny       Ticic  Female   17       Indonesia   \n51455  49457       Gena  Gillanders  Female   45       Nicaragua   \n\n      Airport Country Code Departure Date         Pilot Name  Ticket Price  \\\n1                       CN     09/06/2022     Ursola Faudrie         688.0   \n2                       US     03/11/2022      Kellia Bunney         824.0   \n4                       MG      3/24/2022  Pincas Lorenzetto        1120.0   \n7                       BR      4/21/2022      Read Widdocks         540.0   \n17                      PG      7/25/2022     Novelia Harris        1500.0   \n...                    ...            ...                ...           ...   \n51436                   US     10/18/2022        Salli Cruft        1104.0   \n51441                   PK     10/14/2022          Gayle Ide         740.0   \n51443                   CR     10/01/2022  Francesco Gremane         808.0   \n51446                   CN     11/03/2022    Meggie Colquitt         688.0   \n51455                   US     07/08/2022  Vittoria Gayforth         756.0   \n\n      Eligible_For_Discount   Airport Country D Month D Day  \n1                       Yes             China      09    06  \n2                       Yes     United States      03    11  \n4                       Yes        Madagascar       3    24  \n7                       Yes            Brazil       4    21  \n17                      Yes  Papua New Guinea       7    25  \n...                     ...               ...     ...   ...  \n51436                   Yes     United States      10    18  \n51441                   Yes          Pakistan      10    14  \n51443                   Yes        Costa Rica      10    01  \n51446                   Yes             China      11    03  \n51455                   Yes     United States      07    08  \n\n[7290 rows x 14 columns]",
            "text/html": "<div>\n<style scoped>\n    .dataframe tbody tr th:only-of-type {\n        vertical-align: middle;\n    }\n\n    .dataframe tbody tr th {\n        vertical-align: top;\n    }\n\n    .dataframe thead th {\n        text-align: right;\n    }\n</style>\n<table border=\"1\" class=\"dataframe\">\n  <thead>\n    <tr style=\"text-align: right;\">\n      <th></th>\n      <th>ID</th>\n      <th>First Name</th>\n      <th>Last Name</th>\n      <th>Gender</th>\n      <th>Age</th>\n      <th>Nationality</th>\n      <th>Airport Country Code</th>\n      <th>Departure Date</th>\n      <th>Pilot Name</th>\n      <th>Ticket Price</th>\n      <th>Eligible_For_Discount</th>\n      <th>Airport Country</th>\n      <th>D Month</th>\n      <th>D Day</th>\n    </tr>\n  </thead>\n  <tbody>\n    <tr>\n      <th>1</th>\n      <td>42928</td>\n      <td>Bobette</td>\n      <td>Turfitt</td>\n      <td>Female</td>\n      <td>38</td>\n      <td>Thailand</td>\n      <td>CN</td>\n      <td>09/06/2022</td>\n      <td>Ursola Faudrie</td>\n      <td>688.0</td>\n      <td>Yes</td>\n      <td>China</td>\n      <td>09</td>\n      <td>06</td>\n    </tr>\n    <tr>\n      <th>2</th>\n      <td>26198</td>\n      <td>Karalee</td>\n      <td>Gross</td>\n      <td>Female</td>\n      <td>75</td>\n      <td>Philippines</td>\n      <td>US</td>\n      <td>03/11/2022</td>\n      <td>Kellia Bunney</td>\n      <td>824.0</td>\n      <td>Yes</td>\n      <td>United States</td>\n      <td>03</td>\n      <td>11</td>\n    </tr>\n    <tr>\n      <th>4</th>\n      <td>65769</td>\n      <td>Nancy</td>\n      <td>McGuigan</td>\n      <td>Female</td>\n      <td>17</td>\n      <td>Albania</td>\n      <td>MG</td>\n      <td>3/24/2022</td>\n      <td>Pincas Lorenzetto</td>\n      <td>1120.0</td>\n      <td>Yes</td>\n      <td>Madagascar</td>\n      <td>3</td>\n      <td>24</td>\n    </tr>\n    <tr>\n      <th>7</th>\n      <td>84796</td>\n      <td>Teena</td>\n      <td>Ciccottini</td>\n      <td>Female</td>\n      <td>65</td>\n      <td>Philippines</td>\n      <td>BR</td>\n      <td>4/21/2022</td>\n      <td>Read Widdocks</td>\n      <td>540.0</td>\n      <td>Yes</td>\n      <td>Brazil</td>\n      <td>4</td>\n      <td>21</td>\n    </tr>\n    <tr>\n      <th>17</th>\n      <td>14666</td>\n      <td>Euphemia</td>\n      <td>Boase</td>\n      <td>Female</td>\n      <td>70</td>\n      <td>Czech Republic</td>\n      <td>PG</td>\n      <td>7/25/2022</td>\n      <td>Novelia Harris</td>\n      <td>1500.0</td>\n      <td>Yes</td>\n      <td>Papua New Guinea</td>\n      <td>7</td>\n      <td>25</td>\n    </tr>\n    <tr>\n      <th>...</th>\n      <td>...</td>\n      <td>...</td>\n      <td>...</td>\n      <td>...</td>\n      <td>...</td>\n      <td>...</td>\n      <td>...</td>\n      <td>...</td>\n      <td>...</td>\n      <td>...</td>\n      <td>...</td>\n      <td>...</td>\n      <td>...</td>\n      <td>...</td>\n    </tr>\n    <tr>\n      <th>51436</th>\n      <td>56146</td>\n      <td>Adelle</td>\n      <td>Raiker</td>\n      <td>Female</td>\n      <td>36</td>\n      <td>Indonesia</td>\n      <td>US</td>\n      <td>10/18/2022</td>\n      <td>Salli Cruft</td>\n      <td>1104.0</td>\n      <td>Yes</td>\n      <td>United States</td>\n      <td>10</td>\n      <td>18</td>\n    </tr>\n    <tr>\n      <th>51441</th>\n      <td>90113</td>\n      <td>Rene</td>\n      <td>Maffi</td>\n      <td>Female</td>\n      <td>53</td>\n      <td>New Zealand</td>\n      <td>PK</td>\n      <td>10/14/2022</td>\n      <td>Gayle Ide</td>\n      <td>740.0</td>\n      <td>Yes</td>\n      <td>Pakistan</td>\n      <td>10</td>\n      <td>14</td>\n    </tr>\n    <tr>\n      <th>51443</th>\n      <td>87270</td>\n      <td>Tina</td>\n      <td>Paiton</td>\n      <td>Female</td>\n      <td>17</td>\n      <td>Indonesia</td>\n      <td>CR</td>\n      <td>10/01/2022</td>\n      <td>Francesco Gremane</td>\n      <td>808.0</td>\n      <td>Yes</td>\n      <td>Costa Rica</td>\n      <td>10</td>\n      <td>01</td>\n    </tr>\n    <tr>\n      <th>51446</th>\n      <td>9723</td>\n      <td>Binny</td>\n      <td>Ticic</td>\n      <td>Female</td>\n      <td>17</td>\n      <td>Indonesia</td>\n      <td>CN</td>\n      <td>11/03/2022</td>\n      <td>Meggie Colquitt</td>\n      <td>688.0</td>\n      <td>Yes</td>\n      <td>China</td>\n      <td>11</td>\n      <td>03</td>\n    </tr>\n    <tr>\n      <th>51455</th>\n      <td>49457</td>\n      <td>Gena</td>\n      <td>Gillanders</td>\n      <td>Female</td>\n      <td>45</td>\n      <td>Nicaragua</td>\n      <td>US</td>\n      <td>07/08/2022</td>\n      <td>Vittoria Gayforth</td>\n      <td>756.0</td>\n      <td>Yes</td>\n      <td>United States</td>\n      <td>07</td>\n      <td>08</td>\n    </tr>\n  </tbody>\n</table>\n<p>7290 rows × 14 columns</p>\n</div>"
          },
          "metadata": {}
        }
      ],
      "execution_count": 113
    },
    {
      "id": "dd1feb20-5ca7-4211-ae2d-09c9dc348f24",
      "cell_type": "code",
      "source": "#Gender & Ticket Price, cont.\nprint(len(df_train_f[df_train_f['Ticket Price'] % 2 == 0])) #greater amount than eligible rows, condition is not strict enough\nprint(len(df_train_f[df_train_f['Ticket Price'] % 4 == 0])) #same amount as eligible rows\nprint(len(df_train_f[(df_train_f['Ticket Price'] % 4 == 0) & (df_train_f['Eligible_For_Discount'] == 'Yes')]))\n#all female passengers with a ticket price divisible by 4 are eligible for discount",
      "metadata": {
        "trusted": true
      },
      "outputs": [
        {
          "name": "stdout",
          "output_type": "stream",
          "text": "10848\n7290\n7290\n"
        }
      ],
      "execution_count": 114
    },
    {
      "id": "8d80f590-3575-4531-9654-669a2d14207e",
      "cell_type": "code",
      "source": "#Applying model to test data\n\n#making new columns for convenience\ndf_test['Airport Country'] = df_test['Airport Country Code'].map(cc_dict)\nstored_dates_2 = df_test['Departure Date'].values\ndf_test['D Month'] = [x.split('/')[0] for x in stored_dates_2]\ndf_test['D Day'] = [x.split('/')[1] for x in stored_dates_2]\n\n#filling in Eligible_For_Discount\ndf_test['Eligible_For_Discount'] = np.where(df_test['Age'] < 5, df_test['Eligible_For_Discount'].fillna('Yes'), df_test['Eligible_For_Discount'])\ndf_test['Eligible_For_Discount'] = np.where(df_test['Age'] > 85, df_test['Eligible_For_Discount'].fillna('Yes'), df_test['Eligible_For_Discount'])\ndf_test['Eligible_For_Discount'] = np.where(df_test['D Month'] == '1', df_test['Eligible_For_Discount'].fillna('Yes'), df_test['Eligible_For_Discount'])\ndf_test['Eligible_For_Discount'] = np.where(df_test['D Month'] == '01', df_test['Eligible_For_Discount'].fillna('Yes'), df_test['Eligible_For_Discount'])\ndf_test['Eligible_For_Discount'] = np.where(df_test['D Month'] == '12', df_test['Eligible_For_Discount'].fillna('Yes'), df_test['Eligible_For_Discount'])\ndf_test['Eligible_For_Discount'] = np.where(df_test['Airport Country'] == df_test['Nationality'], df_test['Eligible_For_Discount'].fillna('Yes'), df_test['Eligible_For_Discount'])\ndf_test['Eligible_For_Discount'] = np.where((df_test['Gender'] == 'Female') & (df_test['Ticket Price'] % 4 == 0), df_test['Eligible_For_Discount'].fillna('Yes'), df_test['Eligible_For_Discount'])\ndf_test['Eligible_For_Discount'] = df_test['Eligible_For_Discount'].fillna('No')\n\n#removing created cols\ndf_test = df_test.iloc[:,0:11]\n\n#export\ndf_test.to_csv('jqy2_prediction_challenge_test.csv')",
      "metadata": {
        "trusted": true
      },
      "outputs": [],
      "execution_count": 115
    }
  ]
}